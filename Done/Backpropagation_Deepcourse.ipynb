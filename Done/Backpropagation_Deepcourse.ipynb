{
 "cells": [
  {
   "cell_type": "markdown",
   "metadata": {
    "id": "fA6tTUFMsOVA"
   },
   "source": [
    "<center><h1>Backpropagation From Scratch</h1></center>\n",
    "\n",
    "<center><h2><a href=\"https://deepcourse-epita.netlify.app/\">Course link</a></h2></center>\n",
    "\n",
    "To keep your modifications in case you want to come back later to this colab, do *File -> Save a copy in Drive*.\n",
    "\n",
    "If you find a mistake, or know how to improve this notebook, please open an issue [here](https://gitlab.com/ey_datakalab/course_epita).\n",
    "\n",
    "In this notebook, we'll code a **Logistic Regression** and a two-layers **Multi-Layer Perceptron** (MLP) from scratch.\n",
    "\n",
    "We'll use **pytorch** a deep learning framework. It provides many utilities for neural networks (layers, optimizers, automatic differentiation), but we'll only use its API to manipulate tensors as we would with numpy.\n",
    "\n",
    "The goal will be to learn a model with **backpropagation** in order to classify digits (0, 1, 2, ..., 9) from images.\n",
    "\n",
    "---\n",
    "\n",
    "# 1. Loading Data"
   ]
  },
  {
   "cell_type": "code",
   "execution_count": 28,
   "metadata": {
    "id": "SssNn_kZqgkA"
   },
   "outputs": [],
   "source": [
    "%matplotlib inline"
   ]
  },
  {
   "cell_type": "code",
   "execution_count": 29,
   "metadata": {
    "id": "ow5mTbXbqgkA"
   },
   "outputs": [],
   "source": [
    "import torch\n",
    "import numpy as np\n",
    "from sklearn.datasets import load_digits\n",
    "import matplotlib.pyplot as plt\n",
    "\n",
    "digits = load_digits()"
   ]
  },
  {
   "cell_type": "code",
   "execution_count": 30,
   "metadata": {
    "id": "39IslwwyqgkA"
   },
   "outputs": [
    {
     "name": "stdout",
     "output_type": "stream",
     "text": [
      "Images shape: torch.Size([1797, 8, 8]), targets shape: torch.Size([1797])\n"
     ]
    }
   ],
   "source": [
    "X = torch.tensor(digits[\"images\"]).float()\n",
    "Y = torch.tensor(digits[\"target\"]).long()\n",
    "\n",
    "print(f\"Images shape: {X.shape}, targets shape: {Y.shape}\")"
   ]
  },
  {
   "cell_type": "markdown",
   "metadata": {
    "id": "hdlG3T1ItnqM"
   },
   "source": [
    "We have 1797 images, each of size 8x8. As you see, there is no **channel dimension** meaning that our images are in grayscale. Which is ok for now, as we only want to classify digits.\n",
    "\n",
    "The targets shape is 1797 because, for each image a target is simply an integer representing the digit.\n",
    "\n",
    "Now that our data is loaded, we need to visualize it. Always look at your data before doing anything! Something may be wrong with the data (not in this case)."
   ]
  },
  {
   "cell_type": "code",
   "execution_count": 31,
   "metadata": {
    "id": "580c7iZbqgkA"
   },
   "outputs": [
    {
     "data": {
      "image/png": "[encoded data removed]",
      "text/plain": [
       "<Figure size 640x480 with 3 Axes>"
      ]
     },
     "metadata": {},
     "output_type": "display_data"
    }
   ],
   "source": [
    "plt.subplot(1, 3, 1)\n",
    "plt.imshow(X[42], cmap=\"gray\")\n",
    "plt.title(f\"Digit: {Y[42]}\");\n",
    "\n",
    "plt.subplot(1, 3, 2)\n",
    "plt.imshow(X[64], cmap=\"gray\")\n",
    "plt.title(f\"Digit: {Y[64]}\");\n",
    "\n",
    "plt.subplot(1, 3, 3)\n",
    "plt.imshow(X[1337], cmap=\"gray\")\n",
    "plt.title(f\"Digit: {Y[1337]}\");"
   ]
  },
  {
   "cell_type": "markdown",
   "metadata": {
    "id": "t8mH_DnCubqU"
   },
   "source": [
    "For this dataset, the pixels are coded with 4 bits, meaning that we can have values from 0 to 16 ($2^4$). In deep learning, it's very important to normalize the data in order to have all inputs of relatively the same magnitude.\n",
    "\n",
    "**Beware**: this preprocessing must be done for both the train and test sets! A lot of bugs come from using a slightly different preprocessing between the two sets."
   ]
  },
  {
   "cell_type": "code",
   "execution_count": 32,
   "metadata": {
    "id": "hKyjzJB2qgkA"
   },
   "outputs": [
    {
     "name": "stdout",
     "output_type": "stream",
     "text": [
      "Min and max value of images pixels [0.0, 16.0]\n",
      "Min and max value of normalized images pixels [0.0, 1.0]\n"
     ]
    }
   ],
   "source": [
    "print(f\"Min and max value of images pixels [{X.min()}, {X.max()}]\")\n",
    "X = X / 16\n",
    "print(f\"Min and max value of normalized images pixels [{X.min()}, {X.max()}]\")"
   ]
  },
  {
   "cell_type": "markdown",
   "metadata": {
    "id": "lXAFeiDh1_q4"
   },
   "source": [
    "MLP only accepts inputs that are vectors, thus we will flatten our images into vectors:"
   ]
  },
  {
   "cell_type": "code",
   "execution_count": 33,
   "metadata": {
    "id": "MWV7bkVLqgkA"
   },
   "outputs": [
    {
     "name": "stdout",
     "output_type": "stream",
     "text": [
      "Images shape: torch.Size([1797, 8, 8])\n",
      "Flatten images shape: torch.Size([1797, 64])\n"
     ]
    }
   ],
   "source": [
    "# Flatten images as vectors\n",
    "print(f\"Images shape: {X.shape}\")\n",
    "X = X.view(X.shape[0], -1)\n",
    "print(f\"Flatten images shape: {X.shape}\")"
   ]
  },
  {
   "cell_type": "markdown",
   "metadata": {
    "id": "GndkrKA82b_Y"
   },
   "source": [
    "---\n",
    "\n",
    "# 2. Activation Functions\n",
    "\n",
    "Now that the data is loaded and preprocessed, we need to code the non-linear activation functions that are essential to deep learning.\n",
    "\n",
    "First let's start by `softmax`, the final activation, that will give us a probability per digit. It takes as input a vector of **logits** (the final outputs of the network before softmax, one value per digit) and returns a vector of probabilities.\n",
    "\n",
    "Here is the formula for the $i^\\text{th}$ probability:\n",
    "\n",
    "$$\\text{softmax}(\\mathbf{x})_i = \\frac{e^{x_i}}{\\sum_j e^{x_j}}$$"
   ]
  },
  {
   "cell_type": "code",
   "execution_count": 34,
   "metadata": {
    "id": "muyzo7ohqgkA"
   },
   "outputs": [
    {
     "name": "stdout",
     "output_type": "stream",
     "text": [
      "tensor([0.0900, 0.2447, 0.6652])\n",
      "tensor([2.4723e-03, 1.0917e-04, 1.8458e-06, 9.9742e-01])\n"
     ]
    }
   ],
   "source": [
    "def softmax(x):\n",
    "    return torch.exp(x) / torch.exp(x).sum()\n",
    "\n",
    "print(softmax(torch.tensor([1., 2., 3.])))\n",
    "print(softmax(torch.tensor([3., -0.12, -4.2, 9])))"
   ]
  },
  {
   "cell_type": "code",
   "execution_count": 35,
   "metadata": {
    "id": "D1oB0x5JAmQk"
   },
   "outputs": [
    {
     "name": "stdout",
     "output_type": "stream",
     "text": [
      "--2023-10-27 11:36:20--  https://deepcourse-epita.netlify.app/code/backpropagation/softmax_base.py\n",
      "Resolving deepcourse-epita.netlify.app (deepcourse-epita.netlify.app)... 18.192.231.252, 18.192.94.96, 2a05:d014:275:cb02::c8, ...\n",
      "Connecting to deepcourse-epita.netlify.app (deepcourse-epita.netlify.app)|18.192.231.252|:443... connected.\n"
     ]
    },
    {
     "name": "stdout",
     "output_type": "stream",
     "text": [
      "HTTP request sent, awaiting response... 200 OK\n",
      "Length: 155 [text/x-python3]\n",
      "Saving to: ‘softmax_base.py.1’\n",
      "\n",
      "softmax_base.py.1   100%[===================>]     155  --.-KB/s    in 0s      \n",
      "\n",
      "2023-10-27 11:36:21 (115 MB/s) - ‘softmax_base.py.1’ saved [155/155]\n",
      "\n"
     ]
    },
    {
     "name": "stdout",
     "output_type": "stream",
     "text": [
      "\u001b[0;32mdef\u001b[0m \u001b[0msoftmax\u001b[0m\u001b[0;34m(\u001b[0m\u001b[0mx\u001b[0m\u001b[0;34m)\u001b[0m\u001b[0;34m:\u001b[0m\u001b[0;34m\u001b[0m\n",
      "\u001b[0;34m\u001b[0m    \u001b[0me\u001b[0m \u001b[0;34m=\u001b[0m \u001b[0mtorch\u001b[0m\u001b[0;34m.\u001b[0m\u001b[0mexp\u001b[0m\u001b[0;34m(\u001b[0m\u001b[0mx\u001b[0m\u001b[0;34m)\u001b[0m\u001b[0;34m\u001b[0m\n",
      "\u001b[0;34m\u001b[0m    \u001b[0;32mreturn\u001b[0m \u001b[0me\u001b[0m \u001b[0;34m/\u001b[0m \u001b[0me\u001b[0m\u001b[0;34m.\u001b[0m\u001b[0msum\u001b[0m\u001b[0;34m(\u001b[0m\u001b[0;34m)\u001b[0m\u001b[0;34m\u001b[0m\n",
      "\u001b[0;34m\u001b[0m\u001b[0;34m\u001b[0m\n",
      "\u001b[0;34m\u001b[0m\u001b[0mprint\u001b[0m\u001b[0;34m(\u001b[0m\u001b[0msoftmax\u001b[0m\u001b[0;34m(\u001b[0m\u001b[0mtorch\u001b[0m\u001b[0;34m.\u001b[0m\u001b[0mtensor\u001b[0m\u001b[0;34m(\u001b[0m\u001b[0;34m[\u001b[0m\u001b[0;36m1.\u001b[0m\u001b[0;34m,\u001b[0m \u001b[0;36m2.\u001b[0m\u001b[0;34m,\u001b[0m \u001b[0;36m3.\u001b[0m\u001b[0;34m]\u001b[0m\u001b[0;34m)\u001b[0m\u001b[0;34m)\u001b[0m\u001b[0;34m)\u001b[0m\u001b[0;34m\u001b[0m\n",
      "\u001b[0;34m\u001b[0m\u001b[0mprint\u001b[0m\u001b[0;34m(\u001b[0m\u001b[0msoftmax\u001b[0m\u001b[0;34m(\u001b[0m\u001b[0mtorch\u001b[0m\u001b[0;34m.\u001b[0m\u001b[0mtensor\u001b[0m\u001b[0;34m(\u001b[0m\u001b[0;34m[\u001b[0m\u001b[0;36m3.\u001b[0m\u001b[0;34m,\u001b[0m \u001b[0;34m-\u001b[0m\u001b[0;36m0.12\u001b[0m\u001b[0;34m,\u001b[0m \u001b[0;34m-\u001b[0m\u001b[0;36m4.2\u001b[0m\u001b[0;34m,\u001b[0m \u001b[0;36m9\u001b[0m\u001b[0;34m]\u001b[0m\u001b[0;34m)\u001b[0m\u001b[0;34m)\u001b[0m\u001b[0;34m)\u001b[0m\u001b[0;34m\u001b[0m\u001b[0;34m\u001b[0m\u001b[0m\n"
     ]
    }
   ],
   "source": [
    "# Execute this cell to see the solution, but try to do it by yourself before!\n",
    "!wget https://deepcourse-epita.netlify.app/code/backpropagation/softmax_base.py\n",
    "%pycat softmax_base.py"
   ]
  },
  {
   "cell_type": "markdown",
   "metadata": {
    "id": "JOngg3WUqgkA"
   },
   "source": [
    "Because the output vector is a probability distribution, all individual probabilities should sum to 1, let's check that:"
   ]
  },
  {
   "cell_type": "code",
   "execution_count": 36,
   "metadata": {
    "id": "MzSbPCp0qgkA"
   },
   "outputs": [
    {
     "name": "stdout",
     "output_type": "stream",
     "text": [
      "tensor(1.)\n",
      "tensor(1.)\n"
     ]
    }
   ],
   "source": [
    "print(softmax(torch.tensor([1., 2., 3.])).sum())\n",
    "print(softmax(torch.tensor([3., -0.12, -4.2, 9])).sum())"
   ]
  },
  {
   "cell_type": "markdown",
   "metadata": {
    "id": "90nm0_QhqgkA"
   },
   "source": [
    "What if our model is very very confident about class 0:"
   ]
  },
  {
   "cell_type": "code",
   "execution_count": 37,
   "metadata": {
    "id": "uBXSeneIqgkA"
   },
   "outputs": [
    {
     "data": {
      "text/plain": [
       "tensor([nan, 0., 0.])"
      ]
     },
     "execution_count": 37,
     "metadata": {},
     "output_type": "execute_result"
    }
   ],
   "source": [
    "softmax(torch.tensor([234., 3., 4.]))"
   ]
  },
  {
   "cell_type": "markdown",
   "metadata": {
    "id": "LJOKxUJYqgkA"
   },
   "source": [
    "Why did we have a NaN? How can we fix it?"
   ]
  },
  {
   "cell_type": "markdown",
   "metadata": {},
   "source": [
    "Had a NAN because 2²³⁴ is too big for a float32."
   ]
  },
  {
   "cell_type": "code",
   "execution_count": 38,
   "metadata": {
    "id": "3iUUOFeXqgkA"
   },
   "outputs": [
    {
     "data": {
      "text/plain": [
       "tensor([1.0000e+00, 2.0612e-09, 5.6028e-09])"
      ]
     },
     "execution_count": 38,
     "metadata": {},
     "output_type": "execute_result"
    }
   ],
   "source": [
    "def softmax(x):\n",
    "  max_value = x.max()\n",
    "  exps = torch.exp(x - max_value)\n",
    "  return exps / exps.sum()\n",
    "\n",
    "softmax(torch.tensor([23., 3., 4.]))"
   ]
  },
  {
   "cell_type": "code",
   "execution_count": 39,
   "metadata": {
    "id": "AJdkLBjmA_Z8"
   },
   "outputs": [
    {
     "name": "stdout",
     "output_type": "stream",
     "text": [
      "--2023-10-27 11:36:21--  https://deepcourse-epita.netlify.app/code/backpropagation/softmax_nan.py\n",
      "Resolving deepcourse-epita.netlify.app (deepcourse-epita.netlify.app)... 18.192.231.252, 18.192.94.96, 2a05:d014:275:cb02::c8, ...\n",
      "Connecting to deepcourse-epita.netlify.app (deepcourse-epita.netlify.app)|18.192.231.252|:443... connected.\n",
      "HTTP request sent, awaiting response... "
     ]
    },
    {
     "name": "stdout",
     "output_type": "stream",
     "text": [
      "200 OK\n",
      "Length: 143 [text/x-python3]\n",
      "Saving to: ‘softmax_nan.py.1’\n",
      "\n",
      "softmax_nan.py.1    100%[===================>]     143  --.-KB/s    in 0s      \n",
      "\n",
      "2023-10-27 11:36:21 (41,8 MB/s) - ‘softmax_nan.py.1’ saved [143/143]\n",
      "\n"
     ]
    },
    {
     "name": "stdout",
     "output_type": "stream",
     "text": [
      "\u001b[0;32mdef\u001b[0m \u001b[0msoftmax\u001b[0m\u001b[0;34m(\u001b[0m\u001b[0mx\u001b[0m\u001b[0;34m)\u001b[0m\u001b[0;34m:\u001b[0m\u001b[0;34m\u001b[0m\n",
      "\u001b[0;34m\u001b[0m    \u001b[0mmaximum_value\u001b[0m \u001b[0;34m=\u001b[0m \u001b[0mx\u001b[0m\u001b[0;34m.\u001b[0m\u001b[0mmax\u001b[0m\u001b[0;34m(\u001b[0m\u001b[0;34m)\u001b[0m\u001b[0;34m\u001b[0m\n",
      "\u001b[0;34m\u001b[0m    \u001b[0me\u001b[0m \u001b[0;34m=\u001b[0m \u001b[0mtorch\u001b[0m\u001b[0;34m.\u001b[0m\u001b[0mexp\u001b[0m\u001b[0;34m(\u001b[0m\u001b[0mx\u001b[0m \u001b[0;34m-\u001b[0m \u001b[0mmaximum_value\u001b[0m\u001b[0;34m)\u001b[0m\u001b[0;34m\u001b[0m\n",
      "\u001b[0;34m\u001b[0m    \u001b[0;32mreturn\u001b[0m \u001b[0me\u001b[0m \u001b[0;34m/\u001b[0m \u001b[0me\u001b[0m\u001b[0;34m.\u001b[0m\u001b[0msum\u001b[0m\u001b[0;34m(\u001b[0m\u001b[0;34m)\u001b[0m\u001b[0;34m\u001b[0m\n",
      "\u001b[0;34m\u001b[0m\u001b[0;34m\u001b[0m\n",
      "\u001b[0;34m\u001b[0m\u001b[0msoftmax\u001b[0m\u001b[0;34m(\u001b[0m\u001b[0mtorch\u001b[0m\u001b[0;34m.\u001b[0m\u001b[0mtensor\u001b[0m\u001b[0;34m(\u001b[0m\u001b[0;34m[\u001b[0m\u001b[0;36m234.\u001b[0m\u001b[0;34m,\u001b[0m \u001b[0;36m3.\u001b[0m\u001b[0;34m,\u001b[0m \u001b[0;36m4.\u001b[0m\u001b[0;34m]\u001b[0m\u001b[0;34m)\u001b[0m\u001b[0;34m)\u001b[0m\u001b[0;34m\u001b[0m\u001b[0;34m\u001b[0m\u001b[0m\n"
     ]
    }
   ],
   "source": [
    "# Execute this cell to see the solution, but try to do it by yourself before!\n",
    "!wget https://deepcourse-epita.netlify.app/code/backpropagation/softmax_nan.py\n",
    "%pycat softmax_nan.py"
   ]
  },
  {
   "cell_type": "markdown",
   "metadata": {
    "id": "yg1ZbNDOqgkA"
   },
   "source": [
    "Perfectly identical:\n",
    "\n",
    "$$\\operatorname{softmax}(\\mathbf{x} - c)_i = \\frac{e^{x_i - c}}{\\sum_j e^{x_j - c}}$$\n",
    "$$\\operatorname{softmax}(\\mathbf{x} - c)_i = \\frac{e^{-c} e^{x_i}}{e^{-c} \\sum_j e^{x_j}}$$\n",
    "$$\\operatorname{softmax}(\\mathbf{x} - c)_i = \\frac{e^{x_i}}{\\sum_j e^{x_j}}$$\n",
    "$$\\operatorname{softmax}(\\mathbf{x} - c)_i = \\operatorname{softmax}(\\mathbf{x})_i$$\n",
    "\n",
    "\n",
    "In practice, we will have mini-batch, i.e. our probabilities tensor will be of shape $(B, C)$:"
   ]
  },
  {
   "cell_type": "code",
   "execution_count": 40,
   "metadata": {
    "id": "slZIcZAGqgkA"
   },
   "outputs": [
    {
     "name": "stdout",
     "output_type": "stream",
     "text": [
      "tensor(1.0000)\n",
      "tensor([0.0037, 0.9963])\n"
     ]
    }
   ],
   "source": [
    "x = torch.tensor([\n",
    "    [1., 2., 3.],\n",
    "    [4., 9., -12.]\n",
    "])\n",
    "probabilities = softmax(x)\n",
    "\n",
    "print(probabilities.sum())\n",
    "print(probabilities.sum(dim=1))"
   ]
  },
  {
   "cell_type": "markdown",
   "metadata": {
    "id": "Gyh_IkhSqgkA"
   },
   "source": [
    "The whole batch probabilities sum to 1! That's not what we want. What did go wrong? Remember that most pytorch function can be applied only alongside a dimension."
   ]
  },
  {
   "cell_type": "code",
   "execution_count": 41,
   "metadata": {
    "id": "f__TpQHOqgkA"
   },
   "outputs": [
    {
     "name": "stdout",
     "output_type": "stream",
     "text": [
      "tensor([1., 1.])\n"
     ]
    }
   ],
   "source": [
    "def softmax(x):\n",
    "  max_value = x.max(dim=1, keepdim=True)[0]\n",
    "  exps = torch.exp(x - max_value)\n",
    "  return exps / exps.sum(dim=1, keepdim=True)\n",
    "\n",
    "x = torch.tensor([\n",
    "    [1., 2., 3.],\n",
    "    [4., 9., -12.]\n",
    "])\n",
    "probabilities = softmax(x)\n",
    "\n",
    "print(probabilities.sum(dim=1))"
   ]
  },
  {
   "cell_type": "code",
   "execution_count": 42,
   "metadata": {
    "id": "9KY_36w9BO9Q"
   },
   "outputs": [
    {
     "name": "stdout",
     "output_type": "stream",
     "text": [
      "--2023-10-27 11:36:21--  https://deepcourse-epita.netlify.app/code/backpropagation/softmax_batch.py\n",
      "Resolving deepcourse-epita.netlify.app (deepcourse-epita.netlify.app)... 18.192.231.252, 18.192.94.96, 2a05:d014:58f:6202::64, ...\n",
      "Connecting to deepcourse-epita.netlify.app (deepcourse-epita.netlify.app)|18.192.231.252|:443... connected.\n",
      "HTTP request sent, awaiting response... "
     ]
    },
    {
     "name": "stdout",
     "output_type": "stream",
     "text": [
      "200 OK\n",
      "Length: 267 [text/x-python3]\n",
      "Saving to: ‘softmax_batch.py.1’\n",
      "\n",
      "softmax_batch.py.1  100%[===================>]     267  --.-KB/s    in 0s      \n",
      "\n",
      "2023-10-27 11:36:22 (268 MB/s) - ‘softmax_batch.py.1’ saved [267/267]\n",
      "\n"
     ]
    },
    {
     "name": "stdout",
     "output_type": "stream",
     "text": [
      "\u001b[0;32mdef\u001b[0m \u001b[0msoftmax\u001b[0m\u001b[0;34m(\u001b[0m\u001b[0mx\u001b[0m\u001b[0;34m)\u001b[0m\u001b[0;34m:\u001b[0m\u001b[0;34m\u001b[0m\n",
      "\u001b[0;34m\u001b[0m    \u001b[0mmaximum_value\u001b[0m \u001b[0;34m=\u001b[0m \u001b[0mx\u001b[0m\u001b[0;34m.\u001b[0m\u001b[0mmax\u001b[0m\u001b[0;34m(\u001b[0m\u001b[0mdim\u001b[0m\u001b[0;34m=\u001b[0m\u001b[0;36m1\u001b[0m\u001b[0;34m,\u001b[0m \u001b[0mkeepdims\u001b[0m\u001b[0;34m=\u001b[0m\u001b[0;32mTrue\u001b[0m\u001b[0;34m)\u001b[0m\u001b[0;34m[\u001b[0m\u001b[0;36m0\u001b[0m\u001b[0;34m]\u001b[0m\u001b[0;34m\u001b[0m\n",
      "\u001b[0;34m\u001b[0m    \u001b[0me\u001b[0m \u001b[0;34m=\u001b[0m \u001b[0mtorch\u001b[0m\u001b[0;34m.\u001b[0m\u001b[0mexp\u001b[0m\u001b[0;34m(\u001b[0m\u001b[0mx\u001b[0m \u001b[0;34m-\u001b[0m \u001b[0mmaximum_value\u001b[0m\u001b[0;34m)\u001b[0m\u001b[0;34m\u001b[0m\n",
      "\u001b[0;34m\u001b[0m    \u001b[0;32mreturn\u001b[0m \u001b[0me\u001b[0m \u001b[0;34m/\u001b[0m \u001b[0me\u001b[0m\u001b[0;34m.\u001b[0m\u001b[0msum\u001b[0m\u001b[0;34m(\u001b[0m\u001b[0mdim\u001b[0m\u001b[0;34m=\u001b[0m\u001b[0;36m1\u001b[0m\u001b[0;34m,\u001b[0m \u001b[0mkeepdims\u001b[0m\u001b[0;34m=\u001b[0m\u001b[0;32mTrue\u001b[0m\u001b[0;34m)\u001b[0m\u001b[0;34m\u001b[0m\n",
      "\u001b[0;34m\u001b[0m\u001b[0;34m\u001b[0m\n",
      "\u001b[0;34m\u001b[0m\u001b[0mx\u001b[0m \u001b[0;34m=\u001b[0m \u001b[0mtorch\u001b[0m\u001b[0;34m.\u001b[0m\u001b[0mtensor\u001b[0m\u001b[0;34m(\u001b[0m\u001b[0;34m[\u001b[0m\u001b[0;34m\u001b[0m\n",
      "\u001b[0;34m\u001b[0m    \u001b[0;34m[\u001b[0m\u001b[0;36m1.\u001b[0m\u001b[0;34m,\u001b[0m \u001b[0;36m2.\u001b[0m\u001b[0;34m,\u001b[0m \u001b[0;36m3.\u001b[0m\u001b[0;34m]\u001b[0m\u001b[0;34m,\u001b[0m\u001b[0;34m\u001b[0m\n",
      "\u001b[0;34m\u001b[0m    \u001b[0;34m[\u001b[0m\u001b[0;36m4.\u001b[0m\u001b[0;34m,\u001b[0m \u001b[0;36m9.\u001b[0m\u001b[0;34m,\u001b[0m \u001b[0;34m-\u001b[0m\u001b[0;36m12.\u001b[0m\u001b[0;34m]\u001b[0m\u001b[0;34m\u001b[0m\n",
      "\u001b[0;34m\u001b[0m\u001b[0;34m]\u001b[0m\u001b[0;34m)\u001b[0m\u001b[0;34m\u001b[0m\n",
      "\u001b[0;34m\u001b[0m\u001b[0mprobabilities\u001b[0m \u001b[0;34m=\u001b[0m \u001b[0msoftmax\u001b[0m\u001b[0;34m(\u001b[0m\u001b[0mx\u001b[0m\u001b[0;34m)\u001b[0m\u001b[0;34m\u001b[0m\n",
      "\u001b[0;34m\u001b[0m\u001b[0;34m\u001b[0m\n",
      "\u001b[0;34m\u001b[0m\u001b[0mprint\u001b[0m\u001b[0;34m(\u001b[0m\u001b[0mprobabilities\u001b[0m\u001b[0;34m.\u001b[0m\u001b[0msum\u001b[0m\u001b[0;34m(\u001b[0m\u001b[0mdim\u001b[0m\u001b[0;34m=\u001b[0m\u001b[0;36m1\u001b[0m\u001b[0;34m)\u001b[0m\u001b[0;34m)\u001b[0m\u001b[0;34m\u001b[0m\u001b[0;34m\u001b[0m\u001b[0m\n"
     ]
    }
   ],
   "source": [
    "# Execute this cell to see the solution, but try to do it by yourself before!\n",
    "!wget https://deepcourse-epita.netlify.app/code/backpropagation/softmax_batch.py\n",
    "%pycat softmax_batch.py"
   ]
  },
  {
   "cell_type": "markdown",
   "metadata": {
    "id": "AJNcpbJBqgkA"
   },
   "source": [
    "Now, what about a loss? Let's code the cross-entropy!\n",
    "\n",
    "Tips:\n",
    "- Remember about the dimensions, we have mini-batches\n",
    "- Log of 0 is undefined, what trick can we do then?"
   ]
  },
  {
   "cell_type": "code",
   "execution_count": 43,
   "metadata": {
    "id": "0JmzXQyXqgkA"
   },
   "outputs": [
    {
     "data": {
      "text/plain": [
       "tensor([0.1054, 0.3567, 1.6094, 0.9163])"
      ]
     },
     "execution_count": 43,
     "metadata": {},
     "output_type": "execute_result"
    }
   ],
   "source": [
    "def cross_entropy(probs, targets):\n",
    "    return -torch.sum(targets * torch.log(probs + 1e-8), dim=1)\n",
    "\n",
    "probs = torch.tensor([\n",
    "    [0.9, 0.1],\n",
    "    [0.7, 0.3],\n",
    "    [0.2, 0.8],\n",
    "    [0.6, 0.4]\n",
    "])\n",
    "\n",
    "targets = torch.eye(2)[torch.tensor([0, 0, 0, 1])]\n",
    "cross_entropy(probs, targets)"
   ]
  },
  {
   "cell_type": "code",
   "execution_count": 44,
   "metadata": {
    "id": "bgwDqpm1BaSQ"
   },
   "outputs": [
    {
     "name": "stdout",
     "output_type": "stream",
     "text": [
      "--2023-10-27 11:36:22--  https://deepcourse-epita.netlify.app/code/backpropagation/ce.py\n",
      "Resolving deepcourse-epita.netlify.app (deepcourse-epita.netlify.app)... 18.192.94.96, 18.192.231.252, 2a05:d014:275:cb02::c8, ...\n",
      "Connecting to deepcourse-epita.netlify.app (deepcourse-epita.netlify.app)|18.192.94.96|:443... connected.\n",
      "HTTP request sent, awaiting response... "
     ]
    },
    {
     "name": "stdout",
     "output_type": "stream",
     "text": [
      "200 OK\n",
      "Length: 271 [text/x-python3]\n",
      "Saving to: ‘ce.py.1’\n",
      "\n",
      "ce.py.1             100%[===================>]     271  --.-KB/s    in 0s      \n",
      "\n",
      "2023-10-27 11:36:22 (208 MB/s) - ‘ce.py.1’ saved [271/271]\n",
      "\n"
     ]
    },
    {
     "name": "stdout",
     "output_type": "stream",
     "text": [
      "\u001b[0;32mdef\u001b[0m \u001b[0mcross_entropy\u001b[0m\u001b[0;34m(\u001b[0m\u001b[0mprobs\u001b[0m\u001b[0;34m,\u001b[0m \u001b[0mtargets\u001b[0m\u001b[0;34m)\u001b[0m\u001b[0;34m:\u001b[0m\u001b[0;34m\u001b[0m\n",
      "\u001b[0;34m\u001b[0m    \u001b[0;32mreturn\u001b[0m \u001b[0;34m-\u001b[0m\u001b[0mtorch\u001b[0m\u001b[0;34m.\u001b[0m\u001b[0msum\u001b[0m\u001b[0;34m(\u001b[0m\u001b[0mtargets\u001b[0m \u001b[0;34m*\u001b[0m \u001b[0mtorch\u001b[0m\u001b[0;34m.\u001b[0m\u001b[0mlog\u001b[0m\u001b[0;34m(\u001b[0m\u001b[0mprobs\u001b[0m \u001b[0;34m+\u001b[0m \u001b[0;36m1e-8\u001b[0m\u001b[0;34m)\u001b[0m\u001b[0;34m,\u001b[0m \u001b[0mdim\u001b[0m\u001b[0;34m=\u001b[0m\u001b[0;36m1\u001b[0m\u001b[0;34m)\u001b[0m\u001b[0;34m\u001b[0m\n",
      "\u001b[0;34m\u001b[0m\u001b[0;34m\u001b[0m\n",
      "\u001b[0;34m\u001b[0m\u001b[0mprobs\u001b[0m \u001b[0;34m=\u001b[0m \u001b[0mtorch\u001b[0m\u001b[0;34m.\u001b[0m\u001b[0mtensor\u001b[0m\u001b[0;34m(\u001b[0m\u001b[0;34m[\u001b[0m\u001b[0;34m\u001b[0m\n",
      "\u001b[0;34m\u001b[0m    \u001b[0;34m[\u001b[0m\u001b[0;36m0.9\u001b[0m\u001b[0;34m,\u001b[0m \u001b[0;36m0.1\u001b[0m\u001b[0;34m]\u001b[0m\u001b[0;34m,\u001b[0m\u001b[0;34m\u001b[0m\n",
      "\u001b[0;34m\u001b[0m    \u001b[0;34m[\u001b[0m\u001b[0;36m0.7\u001b[0m\u001b[0;34m,\u001b[0m \u001b[0;36m0.3\u001b[0m\u001b[0;34m]\u001b[0m\u001b[0;34m,\u001b[0m\u001b[0;34m\u001b[0m\n",
      "\u001b[0;34m\u001b[0m    \u001b[0;34m[\u001b[0m\u001b[0;36m0.2\u001b[0m\u001b[0;34m,\u001b[0m \u001b[0;36m0.8\u001b[0m\u001b[0;34m]\u001b[0m\u001b[0;34m,\u001b[0m\u001b[0;34m\u001b[0m\n",
      "\u001b[0;34m\u001b[0m    \u001b[0;34m[\u001b[0m\u001b[0;36m0.6\u001b[0m\u001b[0;34m,\u001b[0m \u001b[0;36m0.4\u001b[0m\u001b[0;34m]\u001b[0m\u001b[0;34m\u001b[0m\n",
      "\u001b[0;34m\u001b[0m\u001b[0;34m]\u001b[0m\u001b[0;34m)\u001b[0m\u001b[0;34m\u001b[0m\n",
      "\u001b[0;34m\u001b[0m\u001b[0;34m\u001b[0m\n",
      "\u001b[0;34m\u001b[0m\u001b[0mtargets\u001b[0m \u001b[0;34m=\u001b[0m \u001b[0mtorch\u001b[0m\u001b[0;34m.\u001b[0m\u001b[0meye\u001b[0m\u001b[0;34m(\u001b[0m\u001b[0;36m2\u001b[0m\u001b[0;34m)\u001b[0m\u001b[0;34m[\u001b[0m\u001b[0mtorch\u001b[0m\u001b[0;34m.\u001b[0m\u001b[0mtensor\u001b[0m\u001b[0;34m(\u001b[0m\u001b[0;34m[\u001b[0m\u001b[0;36m0\u001b[0m\u001b[0;34m,\u001b[0m \u001b[0;36m0\u001b[0m\u001b[0;34m,\u001b[0m \u001b[0;36m0\u001b[0m\u001b[0;34m,\u001b[0m \u001b[0;36m1\u001b[0m\u001b[0;34m]\u001b[0m\u001b[0;34m)\u001b[0m\u001b[0;34m]\u001b[0m\u001b[0;34m\u001b[0m\n",
      "\u001b[0;34m\u001b[0m\u001b[0mcross_entropy\u001b[0m\u001b[0;34m(\u001b[0m\u001b[0mprobs\u001b[0m\u001b[0;34m,\u001b[0m \u001b[0mtargets\u001b[0m\u001b[0;34m)\u001b[0m\u001b[0;34m\u001b[0m\u001b[0;34m\u001b[0m\u001b[0m\n"
     ]
    }
   ],
   "source": [
    "# Execute this cell to see the solution, but try to do it by yourself before!\n",
    "!wget https://deepcourse-epita.netlify.app/code/backpropagation/ce.py\n",
    "%pycat ce.py"
   ]
  },
  {
   "cell_type": "markdown",
   "metadata": {
    "id": "MECroglyqgkA"
   },
   "source": [
    "Loss is most important when we are wrong by a large margin. Likewise it is smallest when we are extremely confident. Now you should see that the cross-entropy is maximizing the confidence (also known as the *likelihood*) into the ground-truth class.\n",
    "\n",
    "Try running the cross-entropy with different probabilities to get an intuition about it."
   ]
  },
  {
   "cell_type": "markdown",
   "metadata": {
    "id": "-s_Sul3sZjks"
   },
   "source": [
    "---\n",
    "\n",
    "# 3. Logistic Regression\n",
    "\n",
    "Now that we have our `softmax` activation and `cross-entropy` loss, we can code a **logistic regression**. Behind this fancy name, it's simply a 1-layer neural network followed a softmax.\n",
    "\n",
    "Here is the forward formula:\n",
    "\n",
    "$$\\tilde{\\mathbf{y}} = \\mathbf{X}\\mathbf{W} + \\mathbf{b}$$\n",
    "$$\\hat{\\mathbf{y}} = \\text{softmax}(\\tilde{\\mathbf{y}})$$\n",
    "$$\\mathcal{L} = -\\frac{1}{B} \\sum_{b=1}^B y_b \\log \\hat{\\mathbf{y}}_b $$\n",
    "\n",
    "With $\\mathbf{X} \\in \\mathbb{R}^{B \\times N}$, $\\mathbf{W} \\in \\mathbb{R}^{N \\times C}$, and $\\mathbf{b} \\in \\mathbb{R}^{C}$. With $B$ being the batch size, $N$ the number of input pixels, and $C$ the number of classes.\n",
    "\n",
    "For the backward, We can simplify formulas with a shortcut by taking directly the gradient of the loss $\\mathcal{L}$ with relation to (w.r.t) the logits $\\tilde{\\mathbf{y}}$ (*see course for details*):\n",
    "\n",
    "$$\\nabla_(\\tilde{\\mathbf{y}}) \\mathcal{L} = \\hat{\\mathbf{y}} - \\mathbf{y}$$\n",
    "\n",
    "Only two gradients are of interest: the one with relation to (w.r.t) the weights $\\mathbf{W}$ and $\\mathbf{b}$, the neurons we want to update. \n",
    "\n",
    "$$\\nabla_\\mathbf{W} \\mathcal{L} = (\\nabla_\\mathbf{W}(\\tilde{\\mathbf{y}})^T \\nabla_(\\tilde{\\mathbf{y}})\\mathcal{L}$$\n",
    "$$\\nabla_\\mathbf{b} \\mathcal{L} = \\nabla_(\\tilde{\\mathbf{y}})\\mathcal{L}$$\n",
    "\n",
    "**Hint**: Look at the shape of each tensor if you're confused, i.e., the gradient $\\nabla_\\mathbf{W} \\mathcal{L}$ should have the same shape as $\\mathbf{W}$!\n",
    "\n",
    "\n",
    "We also recall that the gradient with respect to W are a matrix based on $X$ and not simply $X$\n",
    "$$ \\frac{\\partial WX + b}{\\partial W_{k,l}} = \\frac{\\sum_{j=1}^{J} W_{k,j} X_{j} + b_k}{\\partial W_{k,l}} = X_l\n",
    "$$\n"
   ]
  },
  {
   "cell_type": "code",
   "execution_count": 45,
   "metadata": {
    "id": "WJaDibEpqgkA"
   },
   "outputs": [],
   "source": [
    "class LogisticRegression:\n",
    "    def __init__(self, input_size, nb_classes, learning_rate=0.5):\n",
    "        self.w =  torch.randn(input_size, nb_classes).float()\n",
    "        self.b =  torch.zeros(nb_classes).float()\n",
    "        \n",
    "        self.learning_rate = learning_rate\n",
    "        self.nb_classes = nb_classes\n",
    "        \n",
    "    def forward(self, x):\n",
    "        return  torch.mm(x, self.w) + self.b\n",
    "    \n",
    "    def fit(self, inputs, targets, train=True):\n",
    "        probs = softmax(self.forward(inputs))\n",
    "        if train:\n",
    "            self.backward(inputs, probs, targets)\n",
    "\n",
    "        loss = cross_entropy(probs, torch.eye(self.nb_classes)[targets]).mean()\n",
    "        return loss\n",
    "    \n",
    "    def backward(self, inputs, probs, targets):\n",
    "        batch_size = inputs.shape[0]\n",
    "        \n",
    "        grad_logits = probs - torch.eye(self.nb_classes)[targets]\n",
    "        grad_w = torch.mm(inputs.T, grad_logits) / batch_size\n",
    "        grad_b = grad_logits.mean(dim=0)\n",
    "\n",
    "        self.w -= self.learning_rate * grad_w\n",
    "        self.b -= self.learning_rate * grad_b\n",
    "        \n",
    "    def accuracy(self, inputs, targets):\n",
    "        probs = softmax(self.forward(inputs))\n",
    "        predictions = probs.argmax(dim=1)\n",
    "        return (predictions == targets).float().mean()"
   ]
  },
  {
   "cell_type": "code",
   "execution_count": 46,
   "metadata": {
    "id": "SNYK_VyOyWJU"
   },
   "outputs": [
    {
     "name": "stdout",
     "output_type": "stream",
     "text": [
      "--2023-10-27 11:36:22--  https://deepcourse-epita.netlify.app/code/backpropagation/logreg.py\n",
      "Resolving deepcourse-epita.netlify.app (deepcourse-epita.netlify.app)... 18.192.94.96, 18.192.231.252, 2a05:d014:58f:6202::64, ...\n",
      "Connecting to deepcourse-epita.netlify.app (deepcourse-epita.netlify.app)|18.192.94.96|:443... connected.\n",
      "HTTP request sent, awaiting response... "
     ]
    },
    {
     "name": "stdout",
     "output_type": "stream",
     "text": [
      "200 OK\n",
      "Length: 1086 (1,1K) [text/x-python3]\n",
      "Saving to: ‘logreg.py.1’\n",
      "\n",
      "logreg.py.1         100%[===================>]   1,06K  --.-KB/s    in 0s      \n",
      "\n",
      "2023-10-27 11:36:22 (5,93 MB/s) - ‘logreg.py.1’ saved [1086/1086]\n",
      "\n"
     ]
    },
    {
     "name": "stdout",
     "output_type": "stream",
     "text": [
      "\u001b[0;32mclass\u001b[0m \u001b[0mLogisticRegression\u001b[0m\u001b[0;34m:\u001b[0m\u001b[0;34m\u001b[0m\n",
      "\u001b[0;34m\u001b[0m    \u001b[0;32mdef\u001b[0m \u001b[0m__init__\u001b[0m\u001b[0;34m(\u001b[0m\u001b[0mself\u001b[0m\u001b[0;34m,\u001b[0m \u001b[0minput_size\u001b[0m\u001b[0;34m,\u001b[0m \u001b[0mnb_classes\u001b[0m\u001b[0;34m,\u001b[0m \u001b[0mlearning_rate\u001b[0m\u001b[0;34m=\u001b[0m\u001b[0;36m0.01\u001b[0m\u001b[0;34m)\u001b[0m\u001b[0;34m:\u001b[0m\u001b[0;34m\u001b[0m\n",
      "\u001b[0;34m\u001b[0m        \u001b[0mself\u001b[0m\u001b[0;34m.\u001b[0m\u001b[0mw\u001b[0m \u001b[0;34m=\u001b[0m \u001b[0mtorch\u001b[0m\u001b[0;34m.\u001b[0m\u001b[0mrandn\u001b[0m\u001b[0;34m(\u001b[0m\u001b[0minput_size\u001b[0m\u001b[0;34m,\u001b[0m \u001b[0mnb_classes\u001b[0m\u001b[0;34m)\u001b[0m\u001b[0;34m.\u001b[0m\u001b[0mfloat\u001b[0m\u001b[0;34m(\u001b[0m\u001b[0;34m)\u001b[0m\u001b[0;34m\u001b[0m\n",
      "\u001b[0;34m\u001b[0m        \u001b[0mself\u001b[0m\u001b[0;34m.\u001b[0m\u001b[0mb\u001b[0m \u001b[0;34m=\u001b[0m \u001b[0mtorch\u001b[0m\u001b[0;34m.\u001b[0m\u001b[0mzeros\u001b[0m\u001b[0;34m(\u001b[0m\u001b[0mnb_classes\u001b[0m\u001b[0;34m)\u001b[0m\u001b[0;34m.\u001b[0m\u001b[0mfloat\u001b[0m\u001b[0;34m(\u001b[0m\u001b[0;34m)\u001b[0m\u001b[0;34m\u001b[0m\n",
      "\u001b[0;34m\u001b[0m\u001b[0;34m\u001b[0m\n",
      "\u001b[0;34m\u001b[0m        \u001b[0mself\u001b[0m\u001b[0;34m.\u001b[0m\u001b[0mlearning_rate\u001b[0m \u001b[0;34m=\u001b[0m \u001b[0mlearning_rate\u001b[0m\u001b[0;34m\u001b[0m\n",
      "\u001b[0;34m\u001b[0m\u001b[0;34m\u001b[0m\n",
      "\u001b[0;34m\u001b[0m    \u001b[0;32mdef\u001b[0m \u001b[0mforward\u001b[0m\u001b[0;34m(\u001b[0m\u001b[0mself\u001b[0m\u001b[0;34m,\u001b[0m \u001b[0mx\u001b[0m\u001b[0;34m)\u001b[0m\u001b[0;34m:\u001b[0m\u001b[0;34m\u001b[0m\n",
      "\u001b[0;34m\u001b[0m        \u001b[0;32mreturn\u001b[0m \u001b[0mtorch\u001b[0m\u001b[0;34m.\u001b[0m\u001b[0mmm\u001b[0m\u001b[0;34m(\u001b[0m\u001b[0mx\u001b[0m\u001b[0;34m,\u001b[0m \u001b[0mself\u001b[0m\u001b[0;34m.\u001b[0m\u001b[0mw\u001b[0m\u001b[0;34m)\u001b[0m \u001b[0;34m+\u001b[0m \u001b[0mself\u001b[0m\u001b[0;34m.\u001b[0m\u001b[0mb\u001b[0m\u001b[0;34m\u001b[0m\n",
      "\u001b[0;34m\u001b[0m\u001b[0;34m\u001b[0m\n",
      "\u001b[0;34m\u001b[0m    \u001b[0;32mdef\u001b[0m \u001b[0mfit\u001b[0m\u001b[0;34m(\u001b[0m\u001b[0mself\u001b[0m\u001b[0;34m,\u001b[0m \u001b[0minputs\u001b[0m\u001b[0;34m,\u001b[0m \u001b[0mtargets\u001b[0m\u001b[0;34m,\u001b[0m \u001b[0mtrain\u001b[0m\u001b[0;34m=\u001b[0m\u001b[0;32mTrue\u001b[0m\u001b[0;34m)\u001b[0m\u001b[0;34m:\u001b[0m\u001b[0;34m\u001b[0m\n",
      "\u001b[0;34m\u001b[0m        \u001b[0mprobs\u001b[0m \u001b[0;34m=\u001b[0m \u001b[0msoftmax\u001b[0m\u001b[0;34m(\u001b[0m\u001b[0mself\u001b[0m\u001b[0;34m.\u001b[0m\u001b[0mforward\u001b[0m\u001b[0;34m(\u001b[0m\u001b[0minputs\u001b[0m\u001b[0;34m)\u001b[0m\u001b[0;34m)\u001b[0m\u001b[0;34m\u001b[0m\n",
      "\u001b[0;34m\u001b[0m        \u001b[0;32mif\u001b[0m \u001b[0mtrain\u001b[0m\u001b[0;34m:\u001b[0m\u001b[0;34m\u001b[0m\n",
      "\u001b[0;34m\u001b[0m            \u001b[0mself\u001b[0m\u001b[0;34m.\u001b[0m\u001b[0mbackward\u001b[0m\u001b[0;34m(\u001b[0m\u001b[0minputs\u001b[0m\u001b[0;34m,\u001b[0m \u001b[0mprobs\u001b[0m\u001b[0;34m,\u001b[0m \u001b[0mtargets\u001b[0m\u001b[0;34m)\u001b[0m\u001b[0;34m\u001b[0m\n",
      "\u001b[0;34m\u001b[0m\u001b[0;34m\u001b[0m\n",
      "\u001b[0;34m\u001b[0m        \u001b[0mloss\u001b[0m \u001b[0;34m=\u001b[0m \u001b[0mcross_entropy\u001b[0m\u001b[0;34m(\u001b[0m\u001b[0mprobs\u001b[0m\u001b[0;34m,\u001b[0m \u001b[0mtorch\u001b[0m\u001b[0;34m.\u001b[0m\u001b[0meye\u001b[0m\u001b[0;34m(\u001b[0m\u001b[0;36m10\u001b[0m\u001b[0;34m)\u001b[0m\u001b[0;34m[\u001b[0m\u001b[0mtargets\u001b[0m\u001b[0;34m]\u001b[0m\u001b[0;34m)\u001b[0m\u001b[0;34m.\u001b[0m\u001b[0mmean\u001b[0m\u001b[0;34m(\u001b[0m\u001b[0;34m)\u001b[0m\u001b[0;34m\u001b[0m\n",
      "\u001b[0;34m\u001b[0m        \u001b[0;32mreturn\u001b[0m \u001b[0mloss\u001b[0m\u001b[0;34m\u001b[0m\n",
      "\u001b[0;34m\u001b[0m\u001b[0;34m\u001b[0m\n",
      "\u001b[0;34m\u001b[0m    \u001b[0;32mdef\u001b[0m \u001b[0mbackward\u001b[0m\u001b[0;34m(\u001b[0m\u001b[0mself\u001b[0m\u001b[0;34m,\u001b[0m \u001b[0minputs\u001b[0m\u001b[0;34m,\u001b[0m \u001b[0mprobs\u001b[0m\u001b[0;34m,\u001b[0m \u001b[0mtargets\u001b[0m\u001b[0;34m)\u001b[0m\u001b[0;34m:\u001b[0m\u001b[0;34m\u001b[0m\n",
      "\u001b[0;34m\u001b[0m        \u001b[0mbatch_size\u001b[0m \u001b[0;34m=\u001b[0m \u001b[0mlen\u001b[0m\u001b[0;34m(\u001b[0m\u001b[0minputs\u001b[0m\u001b[0;34m)\u001b[0m\u001b[0;34m\u001b[0m\n",
      "\u001b[0;34m\u001b[0m\u001b[0;34m\u001b[0m\n",
      "\u001b[0;34m\u001b[0m        \u001b[0mgrad_logits\u001b[0m \u001b[0;34m=\u001b[0m \u001b[0mprobs\u001b[0m \u001b[0;34m-\u001b[0m \u001b[0mtorch\u001b[0m\u001b[0;34m.\u001b[0m\u001b[0meye\u001b[0m\u001b[0;34m(\u001b[0m\u001b[0;36m10\u001b[0m\u001b[0;34m)\u001b[0m\u001b[0;34m[\u001b[0m\u001b[0mtargets\u001b[0m\u001b[0;34m]\u001b[0m\u001b[0;34m\u001b[0m\n",
      "\u001b[0;34m\u001b[0m        \u001b[0mgrad_w\u001b[0m \u001b[0;34m=\u001b[0m \u001b[0mtorch\u001b[0m\u001b[0;34m.\u001b[0m\u001b[0mmm\u001b[0m\u001b[0;34m(\u001b[0m\u001b[0minputs\u001b[0m\u001b[0;34m.\u001b[0m\u001b[0mT\u001b[0m\u001b[0;34m,\u001b[0m \u001b[0mgrad_logits\u001b[0m\u001b[0;34m)\u001b[0m \u001b[0;34m/\u001b[0m \u001b[0mbatch_size\u001b[0m\u001b[0;34m\u001b[0m\n",
      "\u001b[0;34m\u001b[0m        \u001b[0mgrad_b\u001b[0m \u001b[0;34m=\u001b[0m \u001b[0mtorch\u001b[0m\u001b[0;34m.\u001b[0m\u001b[0msum\u001b[0m\u001b[0;34m(\u001b[0m\u001b[0mgrad_logits\u001b[0m\u001b[0;34m,\u001b[0m \u001b[0mdim\u001b[0m\u001b[0;34m=\u001b[0m\u001b[0;36m0\u001b[0m\u001b[0;34m)\u001b[0m \u001b[0;34m/\u001b[0m \u001b[0mbatch_size\u001b[0m\u001b[0;34m\u001b[0m\n",
      "\u001b[0;34m\u001b[0m\u001b[0;34m\u001b[0m\n",
      "\u001b[0;34m\u001b[0m        \u001b[0mself\u001b[0m\u001b[0;34m.\u001b[0m\u001b[0mw\u001b[0m \u001b[0;34m=\u001b[0m \u001b[0mself\u001b[0m\u001b[0;34m.\u001b[0m\u001b[0mw\u001b[0m \u001b[0;34m-\u001b[0m \u001b[0mself\u001b[0m\u001b[0;34m.\u001b[0m\u001b[0mlearning_rate\u001b[0m \u001b[0;34m*\u001b[0m \u001b[0mgrad_w\u001b[0m\u001b[0;34m\u001b[0m\n",
      "\u001b[0;34m\u001b[0m        \u001b[0mself\u001b[0m\u001b[0;34m.\u001b[0m\u001b[0mb\u001b[0m \u001b[0;34m=\u001b[0m \u001b[0mself\u001b[0m\u001b[0;34m.\u001b[0m\u001b[0mb\u001b[0m \u001b[0;34m-\u001b[0m \u001b[0mself\u001b[0m\u001b[0;34m.\u001b[0m\u001b[0mlearning_rate\u001b[0m \u001b[0;34m*\u001b[0m \u001b[0mgrad_b\u001b[0m\u001b[0;34m\u001b[0m\n",
      "\u001b[0;34m\u001b[0m\u001b[0;34m\u001b[0m\n",
      "\u001b[0;34m\u001b[0m    \u001b[0;32mdef\u001b[0m \u001b[0maccuracy\u001b[0m\u001b[0;34m(\u001b[0m\u001b[0mself\u001b[0m\u001b[0;34m,\u001b[0m \u001b[0minputs\u001b[0m\u001b[0;34m,\u001b[0m \u001b[0mtargets\u001b[0m\u001b[0;34m)\u001b[0m\u001b[0;34m:\u001b[0m\u001b[0;34m\u001b[0m\n",
      "\u001b[0;34m\u001b[0m        \u001b[0my_pred\u001b[0m \u001b[0;34m=\u001b[0m \u001b[0mself\u001b[0m\u001b[0;34m.\u001b[0m\u001b[0mforward\u001b[0m\u001b[0;34m(\u001b[0m\u001b[0minputs\u001b[0m\u001b[0;34m)\u001b[0m\u001b[0;34m.\u001b[0m\u001b[0margmax\u001b[0m\u001b[0;34m(\u001b[0m\u001b[0mdim\u001b[0m\u001b[0;34m=\u001b[0m\u001b[0;36m1\u001b[0m\u001b[0;34m)\u001b[0m\u001b[0;34m\u001b[0m\n",
      "\u001b[0;34m\u001b[0m        \u001b[0;32mreturn\u001b[0m \u001b[0mtorch\u001b[0m\u001b[0;34m.\u001b[0m\u001b[0mmean\u001b[0m\u001b[0;34m(\u001b[0m\u001b[0;34m(\u001b[0m\u001b[0my_pred\u001b[0m \u001b[0;34m==\u001b[0m \u001b[0mtargets\u001b[0m\u001b[0;34m)\u001b[0m\u001b[0;34m.\u001b[0m\u001b[0mfloat\u001b[0m\u001b[0;34m(\u001b[0m\u001b[0;34m)\u001b[0m\u001b[0;34m)\u001b[0m\u001b[0;34m\u001b[0m\u001b[0;34m\u001b[0m\u001b[0m\n"
     ]
    }
   ],
   "source": [
    "# Execute this cell to see the solution, but try to do it by yourself before!\n",
    "!wget https://deepcourse-epita.netlify.app/code/backpropagation/logreg.py\n",
    "%pycat logreg.py"
   ]
  },
  {
   "cell_type": "code",
   "execution_count": 47,
   "metadata": {
    "id": "DIFAn7dPqgkA"
   },
   "outputs": [],
   "source": [
    "model = LogisticRegression(X.shape[1], len(torch.unique(Y)), 0.5)"
   ]
  },
  {
   "cell_type": "markdown",
   "metadata": {
    "id": "Izky6kr8yz9I"
   },
   "source": [
    "Let's measure the accuracy of the untrained model. What does it, roughtly, correspond to? Any idea why?"
   ]
  },
  {
   "cell_type": "code",
   "execution_count": 48,
   "metadata": {
    "id": "zpMAFwqEqgkA"
   },
   "outputs": [
    {
     "data": {
      "text/plain": [
       "tensor(0.0473)"
      ]
     },
     "execution_count": 48,
     "metadata": {},
     "output_type": "execute_result"
    }
   ],
   "source": [
    "model.accuracy(X, Y)"
   ]
  },
  {
   "cell_type": "markdown",
   "metadata": {
    "id": "WfbVsT_hzBQs"
   },
   "source": [
    "Let's train! We are going to see the whole dataset `nb_epochs` times, by chunk of `batch_size` images.\n",
    "\n",
    "**Note** that we are training and testing on the same set here for simplicity, but in later courses, or in real-life, don't do that."
   ]
  },
  {
   "cell_type": "code",
   "execution_count": 49,
   "metadata": {
    "id": "YGz4Vkj0qgkA"
   },
   "outputs": [
    {
     "name": "stdout",
     "output_type": "stream",
     "text": [
      "Epoch: 0, loss: 0.9488064050674438, accuracy: 0.6816917061805725\n",
      "Epoch: 1, loss: 0.5328096151351929, accuracy: 0.8375069499015808\n",
      "Epoch: 2, loss: 0.40273523330688477, accuracy: 0.8842515349388123\n",
      "Epoch: 3, loss: 0.3370334804058075, accuracy: 0.902615487575531\n"
     ]
    },
    {
     "name": "stdout",
     "output_type": "stream",
     "text": [
      "Epoch: 4, loss: 0.29546335339546204, accuracy: 0.9143016338348389\n",
      "Epoch: 5, loss: 0.26609429717063904, accuracy: 0.9198664426803589\n",
      "Epoch: 6, loss: 0.24399560689926147, accuracy: 0.9293266534805298\n",
      "Epoch: 7, loss: 0.22664225101470947, accuracy: 0.9332220554351807\n",
      "Epoch: 8, loss: 0.21257391571998596, accuracy: 0.9382303953170776\n",
      "Epoch: 9, loss: 0.20087961852550507, accuracy: 0.9421257376670837\n"
     ]
    },
    {
     "data": {
      "image/png": "[encoded data removed]",
      "text/plain": [
       "<Figure size 640x480 with 2 Axes>"
      ]
     },
     "metadata": {},
     "output_type": "display_data"
    }
   ],
   "source": [
    "batch_size = 32\n",
    "nb_epochs = 10\n",
    "\n",
    "epochs, accuracies, losses = [], [], []\n",
    "\n",
    "for epoch in range(nb_epochs):\n",
    "    for batch_index in range(0, len(X), batch_size):\n",
    "        batch_X = X[batch_index:batch_index + batch_size]\n",
    "        batch_Y = Y[batch_index:batch_index + batch_size]\n",
    "    \n",
    "        loss = model.fit(batch_X, batch_Y)\n",
    "        \n",
    "    loss = model.fit(X, Y, train=False)\n",
    "    acc = model.accuracy(X, Y)\n",
    "    \n",
    "    print(f\"Epoch: {epoch}, loss: {loss}, accuracy: {acc}\")\n",
    "    epochs.append(epoch)\n",
    "    losses.append(loss)\n",
    "    accuracies.append(acc)\n",
    "    \n",
    "plt.subplot(1, 2, 1)\n",
    "plt.plot(epochs, losses)\n",
    "plt.xlabel(\"Epoch\")\n",
    "plt.ylabel(\"Loss\")\n",
    "\n",
    "plt.subplot(1, 2, 2)\n",
    "plt.plot(epochs, accuracies)\n",
    "plt.xlabel(\"Epoch\")\n",
    "plt.ylabel(\"accuracy\");"
   ]
  },
  {
   "cell_type": "markdown",
   "metadata": {
    "id": "VQhyi4XgqgkA"
   },
   "source": [
    "--- \n",
    "\n",
    "# 4. Multi-Layer Perceptron\n",
    "\n",
    "Now, let's build a Multi-Layer Perceptron, aka a neural network with hidden layers.\n",
    "\n",
    "Hidden layers imply hidden activations. `tanh` is already implemented for you: `torch.tanh`.\n",
    "\n",
    "This function is applied **element-wise**, meaning that it is applied independently on every point of the tensor (not like softmax). We now need the gradient of this function:"
   ]
  },
  {
   "cell_type": "code",
   "execution_count": 50,
   "metadata": {
    "id": "qKInLQbfqgkA"
   },
   "outputs": [],
   "source": [
    "def grad_tanh(tanh_results):\n",
    "    return 1 - tanh_results ** 2"
   ]
  },
  {
   "cell_type": "code",
   "execution_count": 51,
   "metadata": {
    "id": "MlsK162Rz8fU"
   },
   "outputs": [
    {
     "name": "stdout",
     "output_type": "stream",
     "text": [
      "--2023-10-27 11:36:23--  https://deepcourse-epita.netlify.app/code/backpropagation/gradtanh.py\n",
      "Resolving deepcourse-epita.netlify.app (deepcourse-epita.netlify.app)... 18.192.94.96, 18.192.231.252, 2a05:d014:58f:6202::64, ...\n",
      "Connecting to deepcourse-epita.netlify.app (deepcourse-epita.netlify.app)|18.192.94.96|:443... connected.\n",
      "HTTP request sent, awaiting response... "
     ]
    },
    {
     "name": "stdout",
     "output_type": "stream",
     "text": [
      "200 OK\n",
      "Length: 62 [text/x-python3]\n",
      "Saving to: ‘gradtanh.py.1’\n",
      "\n",
      "gradtanh.py.1       100%[===================>]      62  --.-KB/s    in 0s      \n",
      "\n",
      "2023-10-27 11:36:23 (14,3 MB/s) - ‘gradtanh.py.1’ saved [62/62]\n",
      "\n"
     ]
    },
    {
     "name": "stdout",
     "output_type": "stream",
     "text": [
      "\u001b[0;32mdef\u001b[0m \u001b[0mgrad_tanh\u001b[0m\u001b[0;34m(\u001b[0m\u001b[0mtanh_results\u001b[0m\u001b[0;34m)\u001b[0m\u001b[0;34m:\u001b[0m\u001b[0;34m\u001b[0m\n",
      "\u001b[0;34m\u001b[0m    \u001b[0;32mreturn\u001b[0m \u001b[0;36m1\u001b[0m \u001b[0;34m-\u001b[0m \u001b[0mtanh_results\u001b[0m \u001b[0;34m**\u001b[0m \u001b[0;36m2\u001b[0m\u001b[0;34m\u001b[0m\u001b[0;34m\u001b[0m\u001b[0m\n"
     ]
    }
   ],
   "source": [
    "# Execute this cell to see the solution, but try to do it by yourself before!\n",
    "# !wget https://deepcourse-epita.netlify.app/code/backpropagation/gradtanh.py\n",
    "# %pycat gradtanh.py"
   ]
  },
  {
   "cell_type": "markdown",
   "metadata": {
    "id": "wrmEvuvd0HTg"
   },
   "source": [
    "Now the MLP is like the Logistic Regression we coded previously, but with hidden layers!\n",
    "\n",
    "We'll only start with one hidden layer to start. The forward should be straightforward, and for the backward try to derive it by yourself. If you're really stuck, you can have a look at the code solution, or the course. But after you've tried enough!"
   ]
  },
  {
   "cell_type": "code",
   "execution_count": 52,
   "metadata": {
    "id": "NKgrbNKpqgkA"
   },
   "outputs": [],
   "source": [
    "import torch.nn as nn\n",
    "\n",
    "class MLP(nn.Module):\n",
    "    def __init__(self, input_size, hidden_size, nb_classes, learning_rate=0.5):\n",
    "        super(MLP, self).__init__()\n",
    "        self.w_hidden =  torch.randn(input_size, hidden_size).float()\n",
    "        self.b_hidden =  torch.zeros(hidden_size).float()\n",
    "        \n",
    "        self.w_output =  torch.randn(hidden_size, nb_classes).float()\n",
    "        self.b_output =  torch.zeros(nb_classes).float()\n",
    "        \n",
    "        self.learning_rate = learning_rate\n",
    "        self.nb_classes = nb_classes\n",
    "        \n",
    "    def forward(self, x):\n",
    "        h = torch.tanh(torch.mm(x, self.w_hidden) + self.b_hidden)\n",
    "        return torch.mm(h, self.w_output) + self.b_output, h\n",
    "       # Remember to keep all intermediary values that are needed for the backward pass\n",
    "        \n",
    "    def fit(self, inputs, targets, train=True):\n",
    "        logits, h = self.forward(inputs)\n",
    "        probs = softmax(logits)\n",
    "        h_tilde = torch.tanh(torch.mm(inputs, self.w_hidden) + self.b_hidden)\n",
    "        if train:\n",
    "            self.backward(inputs, targets, h_tilde, h, logits, probs)\n",
    "\n",
    "        loss = cross_entropy(probs, torch.eye(self.nb_classes)[targets]).mean()\n",
    "        return loss\n",
    "    \n",
    "    def backward(self, inputs, targets, h_tilde, h, logits, probs):\n",
    "        batch_size = inputs.shape[0]\n",
    "\n",
    "        grad_logits = probs - torch.eye(self.nb_classes)[targets]\n",
    "        grad_w_output = torch.mm(h.T, grad_logits) / batch_size\n",
    "        grad_b_output = grad_logits.mean(dim=0)\n",
    "        grad_h = torch.mm(grad_logits, self.w_output.T)\n",
    "        grad_h_tilde = grad_h * grad_tanh(h_tilde)\n",
    "        grad_w_hidden = torch.mm(inputs.T, grad_h_tilde) / batch_size\n",
    "\n",
    "        self.w_hidden -= self.learning_rate * grad_w_hidden\n",
    "        self.b_hidden -= self.learning_rate * grad_h_tilde.mean(dim=0)\n",
    "        self.w_output -= self.learning_rate * grad_w_output\n",
    "        self.b_output -= self.learning_rate * grad_b_output\n",
    "        \n",
    "    def accuracy(self, inputs, targets):\n",
    "        logits, _ = self.forward(inputs)\n",
    "        probs = softmax(logits)\n",
    "        predictions = probs.argmax(dim=1)\n",
    "        return (predictions == targets).float().mean()"
   ]
  },
  {
   "cell_type": "markdown",
   "metadata": {
    "id": "eSEVkT3P1NRo"
   },
   "source": [
    "The same code used for the Logisitic Regression can also be used for the MLP.\n",
    "\n",
    "That's the beauty of it, as long as our model can take in inputs images and predicts their digits, we don't care about the internals in the training loops:"
   ]
  },
  {
   "cell_type": "code",
   "execution_count": 53,
   "metadata": {
    "id": "nMXZB__6qgkA"
   },
   "outputs": [
    {
     "name": "stdout",
     "output_type": "stream",
     "text": [
      "Epoch: 0, loss: 0.9655445218086243, accuracy: 0.7562604546546936\n",
      "Epoch: 1, loss: 0.4117208421230316, accuracy: 0.8681135177612305\n"
     ]
    },
    {
     "name": "stdout",
     "output_type": "stream",
     "text": [
      "Epoch: 2, loss: 0.23174256086349487, accuracy: 0.915414571762085\n",
      "Epoch: 3, loss: 0.18020980060100555, accuracy: 0.9404563307762146\n",
      "Epoch: 4, loss: 0.1470729559659958, accuracy: 0.9499165415763855\n",
      "Epoch: 5, loss: 0.12420552223920822, accuracy: 0.9554813504219055\n",
      "Epoch: 6, loss: 0.10792649537324905, accuracy: 0.9638286232948303\n",
      "Epoch: 7, loss: 0.09525055438280106, accuracy: 0.9649415612220764\n",
      "Epoch: 8, loss: 0.08470064401626587, accuracy: 0.9705063700675964\n",
      "Epoch: 9, loss: 0.07564476132392883, accuracy: 0.9738453030586243\n"
     ]
    },
    {
     "data": {
      "image/png": "[encoded data removed]",
      "text/plain": [
       "<Figure size 640x480 with 2 Axes>"
      ]
     },
     "metadata": {},
     "output_type": "display_data"
    }
   ],
   "source": [
    "model = MLP(X.shape[1], 50, len(torch.unique(Y)), 0.5)\n",
    "model.accuracy(X, Y)\n",
    "\n",
    "batch_size = 32\n",
    "nb_epochs = 10\n",
    "\n",
    "epochs, accuracies, losses = [], [], []\n",
    "\n",
    "for epoch in range(nb_epochs):\n",
    "    for batch_index in range(0, len(X), batch_size):\n",
    "        batch_X = X[batch_index:batch_index + batch_size]\n",
    "        batch_Y = Y[batch_index:batch_index + batch_size]\n",
    "    \n",
    "        model.fit(batch_X, batch_Y)\n",
    "        \n",
    "    loss = model.fit(X, Y, train=False)\n",
    "    acc = model.accuracy(X, Y)\n",
    "    \n",
    "    print(f\"Epoch: {epoch}, loss: {loss}, accuracy: {acc}\")\n",
    "    epochs.append(epoch)\n",
    "    losses.append(loss)\n",
    "    accuracies.append(acc)\n",
    "    \n",
    "plt.subplot(1, 2, 1)\n",
    "plt.plot(epochs, losses)\n",
    "plt.xlabel(\"Epoch\")\n",
    "plt.ylabel(\"Loss\")\n",
    "\n",
    "plt.subplot(1, 2, 2)\n",
    "plt.plot(epochs, accuracies)\n",
    "plt.xlabel(\"Epoch\")\n",
    "plt.ylabel(\"accuracy\");"
   ]
  },
  {
   "cell_type": "code",
   "execution_count": 56,
   "metadata": {},
   "outputs": [
    {
     "name": "stdout",
     "output_type": "stream",
     "text": [
      "Defaulting to user installation because normal site-packages is not writeable\n",
      "Collecting onnx\n",
      "  Obtaining dependency information for onnx from https://files.pythonhosted.org/packages/e6/74/522f651adbcd4b6d359b1a3e381185f8e1cd0ada8e9a97465a1990855dff/onnx-1.15.0-cp310-cp310-manylinux_2_17_x86_64.manylinux2014_x86_64.whl.metadata\n",
      "  Downloading onnx-1.15.0-cp310-cp310-manylinux_2_17_x86_64.manylinux2014_x86_64.whl.metadata (15 kB)\n",
      "Requirement already satisfied: numpy in /home/coartix/.local/lib/python3.10/site-packages (from onnx) (1.23.5)\n",
      "Requirement already satisfied: protobuf>=3.20.2 in /home/coartix/.local/lib/python3.10/site-packages (from onnx) (3.20.3)\n",
      "Downloading onnx-1.15.0-cp310-cp310-manylinux_2_17_x86_64.manylinux2014_x86_64.whl (15.7 MB)\n",
      "\u001b[2K   \u001b[90m━━━━━━━━━━━━━━━━━━━━━━━━━━━━━━━━━━━━━━━━\u001b[0m \u001b[32m15.7/15.7 MB\u001b[0m \u001b[31m18.0 MB/s\u001b[0m eta \u001b[36m0:00:00\u001b[0m00:01\u001b[0m00:01\u001b[0m\n",
      "\u001b[?25hInstalling collected packages: onnx\n",
      "Successfully installed onnx-1.15.0\n",
      "\n",
      "\u001b[1m[\u001b[0m\u001b[34;49mnotice\u001b[0m\u001b[1;39;49m]\u001b[0m\u001b[39;49m A new release of pip is available: \u001b[0m\u001b[31;49m23.2.1\u001b[0m\u001b[39;49m -> \u001b[0m\u001b[32;49m23.3.1\u001b[0m\n",
      "\u001b[1m[\u001b[0m\u001b[34;49mnotice\u001b[0m\u001b[1;39;49m]\u001b[0m\u001b[39;49m To update, run: \u001b[0m\u001b[32;49mpip install --upgrade pip\u001b[0m\n"
     ]
    }
   ],
   "source": [
    "# !pip install onnx"
   ]
  },
  {
   "cell_type": "code",
   "execution_count": 57,
   "metadata": {},
   "outputs": [
    {
     "name": "stdout",
     "output_type": "stream",
     "text": [
      "============= Diagnostic Run torch.onnx.export version 2.0.1+cu117 =============\n",
      "verbose: False, log level: Level.ERROR\n",
      "======================= 0 NONE 0 NOTE 0 WARNING 0 ERROR ========================\n",
      "\n"
     ]
    }
   ],
   "source": [
    "# Save the model as onnx\n",
    "import torch.onnx\n",
    "torch.onnx.export(model, X, \"Models/model_backprop.onnx\", input_names = ['input_digits'], output_names = ['output'])"
   ]
  },
  {
   "cell_type": "markdown",
   "metadata": {},
   "source": [
    "![MLP model](Models/model_backprop)"
   ]
  },
  {
   "cell_type": "markdown",
   "metadata": {
    "id": "RzGlhtIV1ml8"
   },
   "source": [
    "--- \n",
    "\n",
    "# Notebook Summary\n",
    "\n",
    "We learn how to:\n",
    "- code a robust softmax\n",
    "- logistic regression with forward and backward pass\n",
    "- MLP with forward and backward pass\n",
    "\n",
    "# Further Works\n",
    "\n",
    "- Try to implement a MLP with two hidden layers, or three, or as much as the user want, through a simple API.\n",
    "- Does the initialization of the weights matter? Try tweaking it (more on it in later courses)"
   ]
  },
  {
   "cell_type": "code",
   "execution_count": null,
   "metadata": {
    "id": "jSjFRrCO2O7M"
   },
   "outputs": [],
   "source": []
  }
 ],
 "metadata": {
  "colab": {
   "collapsed_sections": [],
   "name": "Backpropagation - Deepcourse",
   "provenance": []
  },
  "kernelspec": {
   "display_name": "Python 3.10.6 64-bit",
   "language": "python",
   "name": "python3"
  },
  "language_info": {
   "codemirror_mode": {
    "name": "ipython",
    "version": 3
   },
   "file_extension": ".py",
   "mimetype": "text/x-python",
   "name": "python",
   "nbconvert_exporter": "python",
   "pygments_lexer": "ipython3",
   "version": "3.10.12"
  },
  "vscode": {
   "interpreter": {
    "hash": "aee8b7b246df8f9039afb4144a1f6fd8d2ca17a180786b69acc140d282b71a49"
   }
  }
 },
 "nbformat": 4,
 "nbformat_minor": 1
}
